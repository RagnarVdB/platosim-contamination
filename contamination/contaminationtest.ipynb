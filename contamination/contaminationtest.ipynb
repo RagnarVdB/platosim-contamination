{
 "cells": [
  {
   "cell_type": "code",
   "execution_count": 2,
   "metadata": {},
   "outputs": [],
   "source": [
    "from contamination import Star, TransitObject, Planet, Transit, StarConfiguration, LightCurve\n",
    "from filters import Filter, filterB, filterR, filterV, filterP\n",
    "import numpy as np\n",
    "from scipy import integrate, signal\n",
    "from PyAstronomy import funcFit, pyasl\n",
    "from pytransit import QuadraticModel\n",
    "from platosim.simulation import Simulation\n",
    "from platosim import simfile\n",
    "import os\n",
    "import math\n",
    "import matplotlib.pyplot as plt\n",
    "import matplotlib.cm as cm"
   ]
  },
  {
   "cell_type": "code",
   "execution_count": 3,
   "metadata": {},
   "outputs": [
    {
     "data": {
      "text/plain": [
       "'/home/digonto/documents/Project-Plato/platocon/contamination'"
      ]
     },
     "execution_count": 3,
     "metadata": {},
     "output_type": "execute_result"
    }
   ],
   "source": [
    "os.getcwd()"
   ]
  },
  {
   "cell_type": "code",
   "execution_count": 6,
   "metadata": {},
   "outputs": [
    {
     "data": {
      "text/plain": [
       "(0.4883809187112418, 0.15588152891496082)"
      ]
     },
     "execution_count": 6,
     "metadata": {},
     "output_type": "execute_result"
    }
   ],
   "source": [
    "myStar = Star(6000,7)\n",
    "myStar.spectrumpath\n",
    "\n",
    "myStar.getLdc(filterR)"
   ]
  },
  {
   "cell_type": "code",
   "execution_count": null,
   "metadata": {},
   "outputs": [],
   "source": []
  }
 ],
 "metadata": {
  "interpreter": {
   "hash": "1320b49af07a22b6e539f282fe8be54089db2952a2b597a7e09cb7dfb1d412dd"
  },
  "kernelspec": {
   "display_name": "Python 3.7.10 64-bit ('platosim': conda)",
   "language": "python",
   "name": "python3"
  },
  "language_info": {
   "codemirror_mode": {
    "name": "ipython",
    "version": 3
   },
   "file_extension": ".py",
   "mimetype": "text/x-python",
   "name": "python",
   "nbconvert_exporter": "python",
   "pygments_lexer": "ipython3",
   "version": "3.7.10"
  },
  "orig_nbformat": 4
 },
 "nbformat": 4,
 "nbformat_minor": 2
}
